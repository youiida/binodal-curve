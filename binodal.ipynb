{
 "cells": [
  {
   "cell_type": "code",
   "execution_count": 1,
   "metadata": {
    "ExecuteTime": {
     "end_time": "2023-05-25T05:12:40.841121Z",
     "start_time": "2023-05-25T05:12:40.387978Z"
    }
   },
   "outputs": [],
   "source": [
    "import numpy as np\n",
    "import matplotlib.pyplot as plt\n",
    "import builtins\n",
    "import types\n",
    "\n",
    "\n",
    "def imports():\n",
    "    for name, val in globals().items():\n",
    "        # module imports\n",
    "        if isinstance(val, types.ModuleType):\n",
    "            yield name, val\n",
    "\n",
    "            # functions / callables\n",
    "        if hasattr(val, '__call__'):\n",
    "            yield name, val\n",
    "\n",
    "\n",
    "def noglobal(f):\n",
    "    '''\n",
    "    ref: https://gist.github.com/raven38/4e4c3c7a179283c441f575d6e375510c\n",
    "    '''\n",
    "    return types.FunctionType(f.__code__,\n",
    "                              dict(imports()),\n",
    "                              f.__name__,\n",
    "                              f.__defaults__,\n",
    "                              f.__closure__\n",
    "                              )\n",
    "\n",
    "\n",
    "dora = (\"#2C94C8\", \"#EA6CA2\", \"#d9bf4a\", \"#DB4237\",\n",
    "        \"#DACDBD\", \"#DE927C\", \"#E1E8F1\", \"#919191\")\n",
    "dora = dora*10"
   ]
  },
  {
   "cell_type": "markdown",
   "metadata": {},
   "source": [
    "# 関数定義"
   ]
  },
  {
   "cell_type": "code",
   "execution_count": 2,
   "metadata": {
    "ExecuteTime": {
     "end_time": "2023-05-25T05:12:40.856740Z",
     "start_time": "2023-05-25T05:12:40.841121Z"
    }
   },
   "outputs": [],
   "source": [
    "@noglobal\n",
    "def free_energy(phi, coeffs):\n",
    "    \"\"\"\n",
    "    Calculate the Flory-Huggins free energy.\n",
    "\n",
    "    Parameters:\n",
    "    phi (float): Volume fraction.\n",
    "    coeffs (list): Coefficients for the free energy calculation.\n",
    "\n",
    "    Returns:\n",
    "    float: The calculated free energy.\n",
    "    \"\"\"\n",
    "    if not 0 <= phi.all() <= 1:\n",
    "        raise ValueError(\"Volume fraction (phi) must be between 0 and 1.\")\n",
    "    chi = coeffs[0]\n",
    "    N1 = coeffs[1]\n",
    "    N2 = coeffs[2]\n",
    "    return chi*phi*(1-phi) + phi*np.log(phi)/N1 + (1-phi)*np.log(1-phi)/N2\n",
    "\n",
    "\n",
    "@noglobal\n",
    "def spinodal(coeffs):\n",
    "    \"\"\"\n",
    "    Calculate the spinodal points.\n",
    "\n",
    "    Parameters:\n",
    "    coeffs (list): Coefficients for the spinodal calculation.\n",
    "\n",
    "    Returns:\n",
    "    list: The calculated spinodal points.\n",
    "    \"\"\"\n",
    "    chi = coeffs[0]\n",
    "    N1 = coeffs[1]\n",
    "    N2 = coeffs[2]\n",
    "    alpha = 2*chi*N1*N2\n",
    "    common = (alpha+N2-N1) / (2*alpha)\n",
    "    r = np.sqrt((alpha+N2-N1)**2-4*alpha*N2)/(2*alpha)\n",
    "    return common+r, common-r\n",
    "\n",
    "\n",
    "@noglobal\n",
    "def dfdphi(phi, coeffs):\n",
    "    \"\"\"\n",
    "    Calculate the derivative of the free energy with respect to the volume fraction.\n",
    "\n",
    "    Parameters:\n",
    "    phi (float): Volume fraction.\n",
    "    coeffs (list): Coefficients for the derivative calculation.\n",
    "\n",
    "    Returns:\n",
    "    float: The calculated derivative.\n",
    "    \"\"\"\n",
    "    chi = coeffs[0]\n",
    "    N1 = coeffs[1]\n",
    "    N2 = coeffs[2]\n",
    "    return chi*(1-2*phi) + (1+np.log(phi))/N1 - (1+np.log(1-phi))/N2\n",
    "\n",
    "\n",
    "@noglobal\n",
    "def fe_tangent(phi, p0, coeffs):\n",
    "    \"\"\"\n",
    "    Calculate the tangent of the free energy.\n",
    "\n",
    "    Parameters:\n",
    "    phi (float): Volume fraction.\n",
    "    coeffs (list): Coefficients for the tangent calculation.\n",
    "\n",
    "    Returns:\n",
    "    float: The calculated tangent.\n",
    "    \"\"\"\n",
    "    chi = dfdphi(p0, coeffs)*(phi-p0) + free_energy(p0, coeffs)\n",
    "    return chi\n",
    "\n",
    "\n",
    "# @noglobal\n",
    "# def j1(phi, coeffs):\n",
    "#     \"\"\"\n",
    "#     Calculate the first element of the Jacobian matrix.\n",
    "\n",
    "#     Parameters:\n",
    "#     phi (float): Volume fraction.\n",
    "#     coeffs (list): Coefficients for the Jacobian calculation.\n",
    "\n",
    "#     Returns:\n",
    "#     float: The calculated first element of the Jacobian matrix.\n",
    "#     \"\"\"\n",
    "#     chi = coeffs[0]\n",
    "#     N1 = coeffs[1]\n",
    "#     N2 = coeffs[2]\n",
    "#     return -2*chi + 1/(N1*phi) + 1/(N2*phi)\n",
    "\n",
    "\n",
    "# @noglobal\n",
    "# def j2(phi, coeffs):\n",
    "#     \"\"\"\n",
    "#     Calculate the second element of the Jacobian matrix.\n",
    "\n",
    "#     Parameters:\n",
    "#     phi (float): Volume fraction.\n",
    "#     coeffs (list): Coefficients for the Jacobian calculation.\n",
    "\n",
    "#     Returns:\n",
    "#     float: The calculated second element of the Jacobian matrix.\n",
    "#     \"\"\"\n",
    "#     chi = coeffs[0]\n",
    "#     N1 = coeffs[1]\n",
    "#     N2 = coeffs[2]\n",
    "#     return - (N2*(1-phi)**2 + N1*phi**2)/(N1*N2*phi*(1-phi)**2)\n",
    "\n",
    "\n",
    "@noglobal\n",
    "def calculate_derivative(order, phi, coeffs):\n",
    "    \"\"\"\n",
    "    Calculate the first/second element of the Jacobian matrix.\n",
    "\n",
    "    Parameters:\n",
    "    order (int): order of derivative,\n",
    "    phi (float): Volume fraction.\n",
    "    coeffs (list): Coefficients for the Jacobian calculation.\n",
    "\n",
    "    Returns:\n",
    "    float: The calculated first/second element of the Jacobian matrix.\n",
    "    \"\"\"    \n",
    "    chi = coeffs[0]\n",
    "    N1 = coeffs[1]\n",
    "    N2 = coeffs[2]\n",
    "    if order == 1:\n",
    "        # Calculate the first derivative\n",
    "        return -2*chi + 1/(N1*phi) + 1/(N2*phi)\n",
    "    elif order == 2:\n",
    "        # Calculate the second derivative\n",
    "        return - (N2*(1-phi)**2 + N1*phi**2)/(N1*N2*phi*(1-phi)**2)\n",
    "    else:\n",
    "        raise ValueError(\"Invalid order for derivative calculation\")\n",
    "\n",
    "\n",
    "# @noglobal\n",
    "# def fx(psi, coeffs):\n",
    "#     \"\"\"\n",
    "#     Calculate the function for the Newton method.\n",
    "\n",
    "#     Parameters:\n",
    "#     phi (float): Volume fraction.\n",
    "#     coeffs (list): Coefficients for the function calculation.\n",
    "\n",
    "#     Returns:\n",
    "#     float: The calculated function value.\n",
    "#     \"\"\"\n",
    "#     return dfdphi(psi[0], coeffs) - dfdphi(psi[1], coeffs)\n",
    "\n",
    "\n",
    "# @noglobal\n",
    "# def fy(psi, coeffs):\n",
    "#     \"\"\"\n",
    "#     Calculate the function for the Newton method.\n",
    "\n",
    "#     Parameters:\n",
    "#     phi (float): Volume fraction.\n",
    "#     coeffs (list): Coefficients for the function calculation.\n",
    "\n",
    "#     Returns:\n",
    "#     float: The calculated function value.\n",
    "#     \"\"\"\n",
    "#     return free_energy(psi[0], coeffs) - free_energy(psi[1], coeffs) - psi[0]*dfdphi(psi[0], coeffs) + psi[1]*dfdphi(psi[1], coeffs)\n",
    "\n",
    "\n",
    "@noglobal\n",
    "def fxfy(psi, coeffs):\n",
    "    \"\"\"\n",
    "    Calculate the vector of functions for the Newton method.\n",
    "\n",
    "    Parameters:\n",
    "    phi (float): Volume fraction.\n",
    "    coeffs (list): Coefficients for the function calculation.\n",
    "\n",
    "    Returns:\n",
    "    list: The calculated vector of function values.\n",
    "    \"\"\"\n",
    "#     x = fx(psi, coeffs)\n",
    "#     y = fy(psi, coeffs)\n",
    "    x = dfdphi(psi[0], coeffs) - dfdphi(psi[1], coeffs)\n",
    "    y = free_energy(psi[0], coeffs) - free_energy(psi[1], coeffs) - psi[0]*dfdphi(psi[0], coeffs) + psi[1]*dfdphi(psi[1], coeffs)\n",
    "    return np.array([x, y])\n",
    "\n",
    "\n",
    "@noglobal\n",
    "def jacobian(psi, coeffs):\n",
    "    \"\"\"\n",
    "    Calculate the Jacobian matrix.\n",
    "\n",
    "    Parameters:\n",
    "    phi (float): Volume fraction.\n",
    "    coeffs (list): Coefficients for the Jacobian calculation.\n",
    "\n",
    "    Returns:\n",
    "    list: The calculated Jacobian matrix.\n",
    "    \"\"\"\n",
    "    p1, p2 = psi\n",
    "    J11 = calculate_derivative(1, p1, coeffs)\n",
    "    J12 = -calculate_derivative(1, p2, coeffs)\n",
    "    J21 = calculate_derivative(2, p1, coeffs)\n",
    "    J22 = -calculate_derivative(2, p2, coeffs)\n",
    "#     J11 = j1(p1, coeffs)\n",
    "#     J12 = -j1(p2, coeffs)\n",
    "#     J21 = j2(p1, coeffs)\n",
    "#     J22 = -j2(p2, coeffs)\n",
    "    return np.array([[J11, J12], [J21, J22]])"
   ]
  },
  {
   "cell_type": "markdown",
   "metadata": {},
   "source": [
    "# 共通接線を計算"
   ]
  },
  {
   "cell_type": "code",
   "execution_count": 3,
   "metadata": {
    "ExecuteTime": {
     "end_time": "2023-05-25T05:12:40.872366Z",
     "start_time": "2023-05-25T05:12:40.856740Z"
    },
    "scrolled": true
   },
   "outputs": [],
   "source": [
    "@noglobal\n",
    "def binodal(coeffs, psi=np.array([-1, -1]), verbose=False, eps=1e-10, max_loop=1e9):\n",
    "    \"\"\"\n",
    "    Calculate the binodal curve.\n",
    "\n",
    "    Parameters:\n",
    "    coeffs (list): Coefficients for the binodal curve calculation.\n",
    "\n",
    "    Returns:\n",
    "    list: The calculated binodal curve.\n",
    "    \"\"\"\n",
    "    # 2d newton method\n",
    "    if psi[0] < 0.0:\n",
    "        p1, p2 = spinodal(coeffs)\n",
    "        psi = np.array([p1, p2])\n",
    "\n",
    "    delta = np.array([1e1, 1e1])  # initial value of inv(J)*f\n",
    "    k = 0  # index of loop\n",
    "    flag = True\n",
    "    while (abs(delta[0]) > eps and abs(delta[1]) > eps):\n",
    "        try:\n",
    "            J = jacobian(psi, coeffs)\n",
    "            invJ = np.linalg.inv(J)\n",
    "            f = fxfy(psi, coeffs)\n",
    "            delta = np.dot(invJ, f)\n",
    "            while(psi[0]-delta[0] > 1.0 or psi[1]-delta[1] < 0.0):\n",
    "                # 0<phi<1に収まらないとlog(phi), log(1-phi)が１nanになるのでdeltaを適度に小さくする\n",
    "                delta *= 0.5\n",
    "            psi = psi - delta\n",
    "        except:\n",
    "            print('could not calculate inverse J')\n",
    "            print('J = ')\n",
    "            print(J)\n",
    "            print('delta = ')\n",
    "            print(delta)\n",
    "            print('psi = ')\n",
    "            print(psi)\n",
    "            flag = False\n",
    "            break\n",
    "\n",
    "        if (verbose and k % 10000 == 0):\n",
    "            print('k = %s:' % k)\n",
    "            print('dphi1 = {:>12.5e}'.format(\n",
    "                delta[0]), ',\\t dphi2 = {:>12.5e}'.format(delta[1]))\n",
    "            print('phi1  = {:>12.5e}'.format(\n",
    "                psi[0]),   ',\\t phi2  = {:>12.5e}'.format(psi[1]))\n",
    "        k += 1\n",
    "        if (k > max_loop):\n",
    "            print('could not convergence')\n",
    "            flag = False\n",
    "            break\n",
    "    return psi, flag"
   ]
  },
  {
   "cell_type": "markdown",
   "metadata": {},
   "source": [
    "# 共通接線計算方法"
   ]
  },
  {
   "cell_type": "code",
   "execution_count": 4,
   "metadata": {
    "ExecuteTime": {
     "end_time": "2023-05-25T05:12:41.153624Z",
     "start_time": "2023-05-25T05:12:40.872366Z"
    }
   },
   "outputs": [
    {
     "name": "stderr",
     "output_type": "stream",
     "text": [
      "C:\\Users\\Administrator\\AppData\\Local\\Temp\\3\\ipykernel_32636\\1492746299.py:18: RuntimeWarning: divide by zero encountered in log\n",
      "  return chi*phi*(1-phi) + phi*np.log(phi)/N1 + (1-phi)*np.log(1-phi)/N2\n",
      "C:\\Users\\Administrator\\AppData\\Local\\Temp\\3\\ipykernel_32636\\1492746299.py:18: RuntimeWarning: invalid value encountered in multiply\n",
      "  return chi*phi*(1-phi) + phi*np.log(phi)/N1 + (1-phi)*np.log(1-phi)/N2\n"
     ]
    },
    {
     "data": {
      "text/plain": [
       "[<matplotlib.lines.Line2D at 0x1d0d441b220>]"
      ]
     },
     "execution_count": 4,
     "metadata": {},
     "output_type": "execute_result"
    },
    {
     "data": {
      "image/png": "[encoded data removed]",
      "text/plain": [
       "<Figure size 640x480 with 1 Axes>"
      ]
     },
     "metadata": {},
     "output_type": "display_data"
    }
   ],
   "source": [
    "coeffs = [2.0, 3.0, 1.0]\n",
    "psi, flag = binodal(coeffs, eps=1e-15)\n",
    "phi = np.linspace(0, 1, 100)\n",
    "plt.xlabel('$\\phi$')\n",
    "plt.ylabel('free energy [arb.]')\n",
    "plt.plot(phi, free_energy(phi, coeffs))\n",
    "plt.plot(phi, fe_tangent(phi, psi[0], coeffs))\n",
    "plt.plot(phi, fe_tangent(phi, psi[1], coeffs))"
   ]
  },
  {
   "cell_type": "markdown",
   "metadata": {},
   "source": [
    "## 誤差の確認"
   ]
  },
  {
   "cell_type": "raw",
   "metadata": {
    "ExecuteTime": {
     "end_time": "2023-05-25T05:12:14.027905Z",
     "start_time": "2023-05-25T05:12:14.012275Z"
    }
   },
   "source": [
    "fx(psi, coeffs), fy(psi, coeffs)"
   ]
  },
  {
   "cell_type": "markdown",
   "metadata": {},
   "source": [
    "# 相図作成"
   ]
  },
  {
   "cell_type": "code",
   "execution_count": 5,
   "metadata": {
    "ExecuteTime": {
     "end_time": "2023-05-25T05:12:41.169251Z",
     "start_time": "2023-05-25T05:12:41.153624Z"
    },
    "scrolled": true
   },
   "outputs": [],
   "source": [
    "@noglobal\n",
    "def phase_diagram(max_chi, N1, N2, dev=50, eps=1e-15):\n",
    "    \"\"\"\n",
    "    Create the phase diagram.\n",
    "\n",
    "    Parameters:\n",
    "    coeffs (list): Coefficients for the phase diagram creation.\n",
    "\n",
    "    Returns:\n",
    "    None. Plots the phase diagram.\n",
    "    \"\"\"\n",
    "    try:\n",
    "        # 計算を効率良くするために臨界点を計算しておく\n",
    "        phi_c = np.sqrt(N2)/(np.sqrt(N1)+np.sqrt(N2))\n",
    "        min_chi = (np.sqrt(N1)+np.sqrt(N2))**2/(2*N1*N2)\n",
    "\n",
    "        # chiの刻み幅\n",
    "        delta_chi = (max_chi-min_chi) / dev\n",
    "        chi = min_chi\n",
    "\n",
    "        binodal_line = []\n",
    "        spinodal_line = []\n",
    "\n",
    "        binodal_line.append([phi_c, chi])\n",
    "        spinodal_line.append([phi_c, chi])\n",
    "\n",
    "        # 最初の共存線を得るための初期値\n",
    "        psi = spinodal([chi+delta_chi, N1, N2])\n",
    "\n",
    "        while(chi < max_chi):\n",
    "            chi = chi + delta_chi\n",
    "            coeffs = [chi, N1, N2]\n",
    "            psi, flag = binodal(coeffs, psi, eps=eps)\n",
    "            if(flag): # binodal()計算が収束したときのみデータを追加\n",
    "                binodal_line.append([psi[0], chi])\n",
    "                binodal_line.append([psi[1], chi])\n",
    "                phi_sp = spinodal([chi, N1, N2])\n",
    "                spinodal_line.append([phi_sp[0], chi])\n",
    "                spinodal_line.append([phi_sp[1], chi])\n",
    "            else: # 収束しない場合さらに大きなchiでも収束しないので打ち切る\n",
    "                break\n",
    "        return np.array(sorted(spinodal_line)), np.array(sorted(binodal_line)) # phi についてソートしておくと共存線書きやすい\n",
    "    except Exception as e:\n",
    "        print(f\"Failed to plot the phase diagram: {e}\")"
   ]
  },
  {
   "cell_type": "code",
   "execution_count": 6,
   "metadata": {
    "ExecuteTime": {
     "end_time": "2023-05-25T05:13:04.326110Z",
     "start_time": "2023-05-25T05:12:41.169251Z"
    }
   },
   "outputs": [
    {
     "data": {
      "text/plain": [
       "<matplotlib.legend.Legend at 0x1d0e5de0190>"
      ]
     },
     "execution_count": 6,
     "metadata": {},
     "output_type": "execute_result"
    },
    {
     "data": {
      "image/png": "[encoded data removed]",
      "text/plain": [
       "<Figure size 640x480 with 1 Axes>"
      ]
     },
     "metadata": {},
     "output_type": "display_data"
    }
   ],
   "source": [
    "max_chi = 8\n",
    "N1 = 3\n",
    "N2 = 1\n",
    "\n",
    "sp_line, bi_line = phase_diagram(max_chi, N1, N2)\n",
    "plt.xlabel('$\\phi$')\n",
    "plt.ylabel('$\\chi$')\n",
    "plt.xlim([0, 1])\n",
    "plt.plot(sp_line[:, 0], sp_line[:, 1], color=dora[0], label='spinodal')\n",
    "plt.plot(bi_line[:, 0], bi_line[:, 1], color=dora[1], label='binodal')\n",
    "plt.legend()"
   ]
  },
  {
   "cell_type": "code",
   "execution_count": null,
   "metadata": {},
   "outputs": [],
   "source": []
  }
 ],
 "metadata": {
  "kernelspec": {
   "display_name": "Python 3 (ipykernel)",
   "language": "python",
   "name": "python3"
  },
  "language_info": {
   "codemirror_mode": {
    "name": "ipython",
    "version": 3
   },
   "file_extension": ".py",
   "mimetype": "text/x-python",
   "name": "python",
   "nbconvert_exporter": "python",
   "pygments_lexer": "ipython3",
   "version": "3.10.8"
  },
  "toc": {
   "base_numbering": 1,
   "nav_menu": {},
   "number_sections": true,
   "sideBar": true,
   "skip_h1_title": false,
   "title_cell": "Table of Contents",
   "title_sidebar": "Contents",
   "toc_cell": false,
   "toc_position": {
    "height": "calc(100% - 180px)",
    "left": "10px",
    "top": "150px",
    "width": "288.391px"
   },
   "toc_section_display": true,
   "toc_window_display": true
  }
 },
 "nbformat": 4,
 "nbformat_minor": 4
}
